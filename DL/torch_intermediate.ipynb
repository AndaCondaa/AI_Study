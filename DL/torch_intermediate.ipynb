{
 "cells": [
  {
   "cell_type": "markdown",
   "id": "fe681259",
   "metadata": {},
   "source": [
    "### 배치 정규화"
   ]
  },
  {
   "cell_type": "code",
   "execution_count": null,
   "id": "d91ee7b8",
   "metadata": {},
   "outputs": [
    {
     "name": "stdout",
     "output_type": "stream",
     "text": [
      "2\n",
      "tensor([[-0.9793, -0.7078, -0.7073],\n",
      "        [ 1.3732,  1.4142,  1.4142],\n",
      "        [-0.3939, -0.7064, -0.7069]], grad_fn=<NativeBatchNormBackward0>)\n"
     ]
    }
   ],
   "source": [
    "import torch\n",
    "from torch import nn\n",
    "\n",
    "x = torch.FloatTensor(\n",
    "    [\n",
    "        [-0.23, 1.23, 0.23],\n",
    "        [93.123, 1230, 23892],\n",
    "        [23, 2, 4]\n",
    "    ]\n",
    ")\n",
    "\n",
    "print(x.dim())\n",
    "print(nn.BatchNorm1d(3)(x))"
   ]
  },
  {
   "cell_type": "markdown",
   "id": "eef8182b",
   "metadata": {},
   "source": [
    "### 가중치 초기화"
   ]
  },
  {
   "cell_type": "code",
   "execution_count": 18,
   "id": "c135b7fa",
   "metadata": {},
   "outputs": [],
   "source": [
    "from torch import nn\n",
    "\n",
    "class Net(nn.Module):\n",
    "    def __init__(self):\n",
    "        super().__init__()\n",
    "        self.layer = nn.Sequential(\n",
    "            nn.Linear(1, 2),\n",
    "            nn.Sigmoid()\n",
    "        )\n",
    "        self.fc = nn.Linear(2, 1)\n",
    "        self._init_weights()\n",
    "    \n",
    "    def _init_weights(self):\n",
    "        nn.init.xavier_uniform_(self.layer[0].weight)\n",
    "        self.layer[0].bias.data.fill_(0.01)\n",
    "        \n",
    "        nn.init.xavier_uniform_(self.fc.weight)\n",
    "        self.fc.bias.data.fill_(0.01)\n",
    "        \n",
    "model = Net()"
   ]
  },
  {
   "cell_type": "markdown",
   "id": "cfc16715",
   "metadata": {},
   "source": [
    "### 가중치 초기화 함수 모듈화"
   ]
  },
  {
   "cell_type": "code",
   "execution_count": null,
   "id": "4d6553cc",
   "metadata": {},
   "outputs": [
    {
     "name": "stdout",
     "output_type": "stream",
     "text": [
      "Apply: Linear(in_features=1, out_features=2, bias=True)\n",
      "Apply: Sigmoid()\n",
      "Apply: Sequential(\n",
      "  (0): Linear(in_features=1, out_features=2, bias=True)\n",
      "  (1): Sigmoid()\n",
      ")\n",
      "Apply: Linear(in_features=2, out_features=1, bias=True)\n",
      "Apply: Net(\n",
      "  (layer): Sequential(\n",
      "    (0): Linear(in_features=1, out_features=2, bias=True)\n",
      "    (1): Sigmoid()\n",
      "  )\n",
      "  (fc): Linear(in_features=2, out_features=1, bias=True)\n",
      ")\n"
     ]
    }
   ],
   "source": [
    "from torch import nn\n",
    "\n",
    "class Net(nn.Module):\n",
    "    def __init__(self):\n",
    "        super().__init__()\n",
    "        self.layer = nn.Sequential(\n",
    "            nn.Linear(1, 2),\n",
    "            nn.Sigmoid()\n",
    "        )\n",
    "        self.fc = nn.Linear(2, 1)\n",
    "        self.apply(self._init_weights)\n",
    "    \n",
    "    def _init_weights(self, module):\n",
    "        if isinstance(module, nn.Linear):\n",
    "            nn.init.xavier_uniform_(module.weight)\n",
    "            nn.init.constant_(module.bias, 0.01)\n",
    "        print(f\"Apply: {module}\")\n",
    "        \n",
    "model = Net()\n",
    "        "
   ]
  },
  {
   "cell_type": "markdown",
   "id": "6b04e0c8",
   "metadata": {},
   "source": [
    "### L1 규제"
   ]
  },
  {
   "cell_type": "code",
   "execution_count": null,
   "id": "f0c1958a",
   "metadata": {},
   "outputs": [],
   "source": []
  },
  {
   "cell_type": "code",
   "execution_count": null,
   "id": "280167d2",
   "metadata": {},
   "outputs": [],
   "source": []
  },
  {
   "cell_type": "code",
   "execution_count": null,
   "id": "1272768b",
   "metadata": {},
   "outputs": [],
   "source": []
  },
  {
   "cell_type": "code",
   "execution_count": null,
   "id": "623d8e94",
   "metadata": {},
   "outputs": [],
   "source": []
  },
  {
   "cell_type": "code",
   "execution_count": null,
   "id": "29b32c04",
   "metadata": {},
   "outputs": [],
   "source": []
  },
  {
   "cell_type": "code",
   "execution_count": null,
   "id": "4cf80404",
   "metadata": {},
   "outputs": [],
   "source": []
  },
  {
   "cell_type": "code",
   "execution_count": null,
   "id": "fb17428f",
   "metadata": {},
   "outputs": [],
   "source": []
  },
  {
   "cell_type": "code",
   "execution_count": null,
   "id": "c5f80cd8",
   "metadata": {},
   "outputs": [],
   "source": []
  }
 ],
 "metadata": {
  "kernelspec": {
   "display_name": "self",
   "language": "python",
   "name": "python3"
  },
  "language_info": {
   "codemirror_mode": {
    "name": "ipython",
    "version": 3
   },
   "file_extension": ".py",
   "mimetype": "text/x-python",
   "name": "python",
   "nbconvert_exporter": "python",
   "pygments_lexer": "ipython3",
   "version": "3.13.2"
  }
 },
 "nbformat": 4,
 "nbformat_minor": 5
}
