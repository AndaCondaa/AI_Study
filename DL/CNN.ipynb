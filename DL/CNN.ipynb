{
 "cells": [
  {
   "cell_type": "code",
   "execution_count": 1,
   "id": "a740bce2",
   "metadata": {},
   "outputs": [],
   "source": [
    "import numpy as np"
   ]
  },
  {
   "cell_type": "code",
   "execution_count": 11,
   "id": "f797bd5d",
   "metadata": {},
   "outputs": [
    {
     "name": "stdout",
     "output_type": "stream",
     "text": [
      "(10, 1, 28, 28)\n",
      "(1, 28, 28)\n",
      "(1, 28, 28)\n",
      "(28, 28)\n",
      "(28, 28)\n"
     ]
    }
   ],
   "source": [
    "x = np.random.rand(10, 1, 28, 28)\n",
    "print(x.shape)\n",
    "print(x[0].shape)\n",
    "print(x[1].shape)\n",
    "print(x[0,0].shape)\n",
    "print(x[1,0].shape)"
   ]
  },
  {
   "cell_type": "code",
   "execution_count": 12,
   "id": "8d2dc50c",
   "metadata": {},
   "outputs": [],
   "source": [
    "from ref.common.util import im2col"
   ]
  },
  {
   "cell_type": "code",
   "execution_count": 16,
   "id": "540b35b6",
   "metadata": {},
   "outputs": [
    {
     "name": "stdout",
     "output_type": "stream",
     "text": [
      "(9, 75)\n",
      "(90, 75)\n"
     ]
    }
   ],
   "source": [
    "x1 = np.random.rand(1, 3, 7, 7)\n",
    "col1 = im2col(x1, 5, 5, stride=1, pad=0)\n",
    "print(col1.shape)\n",
    "\n",
    "x2 = np.random.rand(10, 3, 7, 7)\n",
    "col2 = im2col(x2, 5, 5, stride=1, pad=0)\n",
    "print(col2.shape)"
   ]
  },
  {
   "cell_type": "code",
   "execution_count": 17,
   "id": "15fad526",
   "metadata": {},
   "outputs": [],
   "source": [
    "class Convolution:\n",
    "    def __init__(self, W, b, stride=1, pad=0):\n",
    "        self.W = W\n",
    "        self.b = b\n",
    "        self.stride = stride\n",
    "        self.pad = pad\n",
    "        \n",
    "    def forward(self, x):\n",
    "        FN, C, FH, FW = self.shape\n",
    "        N, C, H, W = x.shape\n",
    "        out_h = int(1 + (H + 2*self.pad - FH) / self.stride)\n",
    "        out_w = int(1 + (W + 2*self.pad - FW) / self.stride)\n",
    "        \n",
    "        col = im2col(x, FH, FW, self.stride, self.pad)\n",
    "        col_W = self.W.reshape(FN, -1).T\n",
    "        out = np.dot(col, col_W) + self.b\n",
    "        \n",
    "        out = out.reshape(N, out_h, out_w, -1).transpose(0, 3, 1, 2)\n",
    "        \n",
    "        return out"
   ]
  },
  {
   "cell_type": "code",
   "execution_count": 3,
   "id": "293d55dc",
   "metadata": {},
   "outputs": [
    {
     "name": "stdout",
     "output_type": "stream",
     "text": [
      "1000\n",
      "tench\n"
     ]
    }
   ],
   "source": [
    "with open(\"./datasets/imagenet_classes.txt\", \"r\") as file:\n",
    "    classes = file.read().splitlines()\n",
    "    \n",
    "print(len(classes))\n",
    "print(classes[0])"
   ]
  },
  {
   "cell_type": "code",
   "execution_count": 5,
   "id": "2b1cdc85",
   "metadata": {},
   "outputs": [
    {
     "name": "stdout",
     "output_type": "stream",
     "text": [
      "torch.Size([2, 3, 224, 224])\n"
     ]
    }
   ],
   "source": [
    "import torch\n",
    "from PIL import Image\n",
    "from torchvision import models, transforms\n",
    "\n",
    "transform = transforms.Compose(\n",
    "    [\n",
    "        transforms.Resize((224, 224)),\n",
    "        transforms.ToTensor(),\n",
    "        transforms.Normalize(\n",
    "            mean=[0.485, 0.456, 0.406],\n",
    "            std=[0.229, 0.224, 0.225]\n",
    "        )\n",
    "    ]\n",
    ")\n",
    "\n",
    "device = \"mps\" if torch.mps.is_available() else \"cpu\"\n",
    "model = models.alexnet(weights=\"AlexNet_Weights.IMAGENET1K_V1\").eval().to(device)\n",
    "\n",
    "tensors = []\n",
    "files = [\"./datasets/images/airplane.jpg\", \"./datasets/images/bus.jpg\"]\n",
    "for file in files:\n",
    "    image = Image.open(file)\n",
    "    tensors.append(transform(image))\n",
    "    \n",
    "tensors = torch.stack(tensors)\n",
    "print(tensors.shape)"
   ]
  },
  {
   "cell_type": "code",
   "execution_count": 6,
   "id": "576d1263",
   "metadata": {},
   "outputs": [
    {
     "name": "stdout",
     "output_type": "stream",
     "text": [
      "./datasets/images/airplane.jpg\n",
      "airliner                      , 66.83\n",
      "warplane                      , 20.12\n",
      "wing                          ,  9.29\n",
      "./datasets/images/bus.jpg\n",
      "streetcar                     , 60.25\n",
      "trolleybus                    , 37.99\n",
      "minibus                       ,  1.54\n"
     ]
    }
   ],
   "source": [
    "import numpy as np\n",
    "from torch.nn import functional as F\n",
    "\n",
    "with torch.no_grad():\n",
    "    outputs = model(tensors.to(device))\n",
    "    probs = F.softmax(outputs, dim=1)\n",
    "    top_probs, top_idxs = probs.topk(3)\n",
    "    \n",
    "top_probs = top_probs.detach().cpu().numpy()\n",
    "top_idxs = top_idxs.detach().cpu().numpy()\n",
    "top_classes = np.array(classes)[top_idxs]\n",
    "\n",
    "for idx, (cls, prob) in enumerate(zip(top_classes, top_probs)):\n",
    "    print(files[idx])\n",
    "    for c, p in zip(cls, prob):\n",
    "        print(f\"{c:<30}, {p*100:>5.2f}\")"
   ]
  },
  {
   "cell_type": "code",
   "execution_count": null,
   "id": "184c2df0",
   "metadata": {},
   "outputs": [],
   "source": []
  }
 ],
 "metadata": {
  "kernelspec": {
   "display_name": "self",
   "language": "python",
   "name": "python3"
  },
  "language_info": {
   "codemirror_mode": {
    "name": "ipython",
    "version": 3
   },
   "file_extension": ".py",
   "mimetype": "text/x-python",
   "name": "python",
   "nbconvert_exporter": "python",
   "pygments_lexer": "ipython3",
   "version": "3.13.2"
  }
 },
 "nbformat": 4,
 "nbformat_minor": 5
}
