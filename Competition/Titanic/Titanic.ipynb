{
 "cells": [
  {
   "cell_type": "markdown",
   "metadata": {},
   "source": [
    "<h1>Titanic</h1>"
   ]
  },
  {
   "cell_type": "markdown",
   "metadata": {},
   "source": [
    "<h3>1. Data</h3>\n",
    "<br>\n",
    "Survived: 0: no, 1: yes<br>\n",
    "Pclass: 티켓 클래스 1,2,3<br>\n",
    "SibSp: 탑승한 형제/배우자의 수<br>\n",
    "Parch: 탑승한 부모/자식의 수<br>\n",
    "Ticket: 티켓 번호<br>\n",
    "Fare: 티켓 가격<br>\n",
    "Cabin: 캐빈 번호<br>\n",
    "Embarked: 탑승 항구 C,Q,S<br>"
   ]
  },
  {
   "cell_type": "code",
   "execution_count": null,
   "metadata": {},
   "outputs": [],
   "source": [
    "import pandas as pd\n",
    "import numpy as np"
   ]
  },
  {
   "cell_type": "code",
   "execution_count": 61,
   "metadata": {},
   "outputs": [],
   "source": [
    "def data_preproc(path):\n",
    "    df = pd.read_csv(path)\n",
    "    \n",
    "    # encoding\n",
    "    df['Sex'] = df['Sex'].map({'male': 0, 'female': 1})\n",
    "    df['Embarked'] = df['Embarked'].map({'C': 0, 'Q': 1, 'S': 2})\n",
    "\n",
    "    # Fill NaN with the mean value of Pclass\n",
    "    for col in ['Age', 'SibSp', 'Parch', 'Fare', 'Embarked']:\n",
    "        df[col] = df[col].fillna(df.groupby('Pclass')[col].transform('mean'))\n",
    "        \n",
    "    # Fill NaN with the mean value of Pclass        \n",
    "    for col in ['Age', 'SibSp', 'Parch', 'Fare', 'Embarked']:\n",
    "        df[col] = df[col].fillna(df.groupby('Pclass')[col].transform('mean'))\n",
    "        \n",
    "    return df\n",
    "\n",
    "\n",
    "df_train = data_preproc('./data/train.csv')\n",
    "df_test = data_preproc('./data/test.csv')\n",
    "\n",
    "\n",
    "# Split input and target data\n",
    "train_input = df_train[['Pclass', 'Sex', 'Age', 'SibSp', 'Parch', 'Fare', 'Embarked']].to_numpy()\n",
    "train_target = df_train['Survived'].to_numpy()\n",
    "\n",
    "test_input = df_test[['Pclass', 'Sex', 'Age', 'SibSp', 'Parch', 'Fare', 'Embarked']].to_numpy()"
   ]
  },
  {
   "cell_type": "code",
   "execution_count": 62,
   "metadata": {},
   "outputs": [
    {
     "name": "stdout",
     "output_type": "stream",
     "text": [
      "0.8058361391694725\n"
     ]
    },
    {
     "data": {
      "text/plain": [
       "(418,)"
      ]
     },
     "execution_count": 62,
     "metadata": {},
     "output_type": "execute_result"
    }
   ],
   "source": [
    "from sklearn.neighbors import KNeighborsClassifier\n",
    "knn = KNeighborsClassifier(n_neighbors=4)\n",
    "knn.fit(train_input, train_target)\n",
    "print(knn.score(train_input, train_target))\n",
    "test_target = knn.predict(test_input)\n",
    "test_target.shape"
   ]
  },
  {
   "cell_type": "code",
   "execution_count": 64,
   "metadata": {},
   "outputs": [],
   "source": [
    "submission_knn = pd.DataFrame({\n",
    "    'PassengerId': df_test['PassengerId'],\n",
    "    'Survived': test_target\n",
    "})\n",
    "\n",
    "# CSV로 저장\n",
    "submission_knn.to_csv('./data/submission_knn.csv', index=False)"
   ]
  },
  {
   "cell_type": "code",
   "execution_count": null,
   "metadata": {},
   "outputs": [],
   "source": []
  }
 ],
 "metadata": {
  "kernelspec": {
   "display_name": "self",
   "language": "python",
   "name": "python3"
  },
  "language_info": {
   "codemirror_mode": {
    "name": "ipython",
    "version": 3
   },
   "file_extension": ".py",
   "mimetype": "text/x-python",
   "name": "python",
   "nbconvert_exporter": "python",
   "pygments_lexer": "ipython3",
   "version": "3.13.2"
  }
 },
 "nbformat": 4,
 "nbformat_minor": 2
}
