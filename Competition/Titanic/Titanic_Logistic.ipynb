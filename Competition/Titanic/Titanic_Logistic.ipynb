{
 "cells": [
  {
   "cell_type": "markdown",
   "metadata": {},
   "source": [
    "<h1>Titanic Logistic</h1>"
   ]
  },
  {
   "cell_type": "markdown",
   "metadata": {},
   "source": [
    "<h3>Data</h3>\n",
    "<br>\n",
    "Survived: 0: no, 1: yes<br>\n",
    "Pclass: 티켓 클래스 1,2,3<br>\n",
    "SibSp: 탑승한 형제/배우자의 수<br>\n",
    "Parch: 탑승한 부모/자식의 수<br>\n",
    "Ticket: 티켓 번호<br>\n",
    "Fare: 티켓 가격<br>\n",
    "Cabin: 캐빈 번호<br>\n",
    "Embarked: 탑승 항구 C,Q,S<br>"
   ]
  },
  {
   "cell_type": "code",
   "execution_count": 2,
   "metadata": {},
   "outputs": [],
   "source": [
    "import pandas as pd\n",
    "import numpy as np"
   ]
  },
  {
   "cell_type": "code",
   "execution_count": 3,
   "metadata": {},
   "outputs": [],
   "source": [
    "def data_preproc(path):\n",
    "    df = pd.read_csv(path)\n",
    "    \n",
    "    # encoding\n",
    "    df['Sex'] = df['Sex'].map({'male': 0, 'female': 1})\n",
    "    df['Embarked'] = df['Embarked'].map({'C': 0, 'Q': 1, 'S': 2})\n",
    "\n",
    "    # Fill NaN with the mean value of Pclass\n",
    "    for col in ['Age', 'SibSp', 'Parch', 'Fare', 'Embarked']:\n",
    "        df[col] = df[col].fillna(df.groupby('Pclass')[col].transform('mean'))\n",
    "        \n",
    "    # Fill NaN with the mean value of Pclass        \n",
    "    for col in ['Age', 'SibSp', 'Parch', 'Fare', 'Embarked']:\n",
    "        df[col] = df[col].fillna(df.groupby('Pclass')[col].transform('mean'))\n",
    "        \n",
    "    return df\n",
    "\n",
    "\n",
    "df_train = data_preproc('./data/train.csv')\n",
    "df_test = data_preproc('./data/test.csv')\n",
    "\n",
    "\n",
    "# Split input and target data\n",
    "train_input = df_train[['Pclass', 'Sex', 'Age', 'SibSp', 'Parch', 'Fare', 'Embarked']].to_numpy()\n",
    "train_target = df_train['Survived'].to_numpy()\n",
    "\n",
    "test_input = df_test[['Pclass', 'Sex', 'Age', 'SibSp', 'Parch', 'Fare', 'Embarked']].to_numpy()"
   ]
  },
  {
   "cell_type": "code",
   "execution_count": 7,
   "metadata": {},
   "outputs": [],
   "source": [
    "from sklearn.linear_model import LogisticRegression\n",
    "lr = LogisticRegression(max_iter=1000)\n",
    "lr.fit(train_input, train_target)\n",
    "lr.score(train_input, train_target)\n",
    "test_target = lr.predict(test_input)"
   ]
  },
  {
   "cell_type": "code",
   "execution_count": 8,
   "metadata": {},
   "outputs": [],
   "source": [
    "submission = pd.read_csv('./data/gender_submission.csv')\n",
    "submission['Survived'] = test_target\n",
    "\n",
    "# CSV로 저장\n",
    "submission.to_csv('./data/submission_knns.csv', index=False)"
   ]
  },
  {
   "cell_type": "code",
   "execution_count": null,
   "metadata": {},
   "outputs": [],
   "source": []
  }
 ],
 "metadata": {
  "kernelspec": {
   "display_name": "self",
   "language": "python",
   "name": "python3"
  },
  "language_info": {
   "codemirror_mode": {
    "name": "ipython",
    "version": 3
   },
   "file_extension": ".py",
   "mimetype": "text/x-python",
   "name": "python",
   "nbconvert_exporter": "python",
   "pygments_lexer": "ipython3",
   "version": "3.13.2"
  }
 },
 "nbformat": 4,
 "nbformat_minor": 2
}
